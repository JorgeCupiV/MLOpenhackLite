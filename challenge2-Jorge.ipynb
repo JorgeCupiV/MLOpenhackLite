{
 "cells": [
  {
   "cell_type": "code",
   "execution_count": null,
   "metadata": {},
   "outputs": [],
   "source": [
    "!pip install --upgrade azureml-sdk[automl]\n",
    "!pip install --upgrade azureml-sdk[explain]"
   ]
  },
  {
   "cell_type": "code",
   "execution_count": null,
   "metadata": {},
   "outputs": [],
   "source": [
    "from azureml.core import Workspace, Datastore, Dataset"
   ]
  },
  {
   "cell_type": "code",
   "execution_count": null,
   "metadata": {},
   "outputs": [],
   "source": [
    "ws = Workspace.from_config()"
   ]
  },
  {
   "cell_type": "code",
   "execution_count": null,
   "metadata": {},
   "outputs": [],
   "source": [
    "dataStoreName = 'dataStoreName'\n",
    "containerName = 'containerName'\n",
    "accountName = 'storageAccountName'\n",
    "accountKey = 'storageAccountKey'\n",
    "\n",
    "if ws.datastores.get(dataStoreName):\n",
    "    ds = ws.datastores.get(dataStoreName)\n",
    "else:\n",
    "    ds = Datastore.register_azure_blob_container(workspace=ws, \n",
    "                                             datastore_name=dataStoreName,\n",
    "                                             container_name=containerName,\n",
    "                                             account_name=accountName, \n",
    "                                             account_key=accountKey)"
   ]
  },
  {
   "cell_type": "code",
   "execution_count": null,
   "metadata": {},
   "outputs": [],
   "source": [
    "# Create an in-memory Dataset on your local machine\n",
    "datapath = ds.path('NameofYourFile.csv')\n",
    "dataset = Dataset.auto_read_files(datapath)"
   ]
  },
  {
   "cell_type": "code",
   "execution_count": null,
   "metadata": {},
   "outputs": [],
   "source": [
    "from azureml.core.runconfig import RunConfiguration\n",
    "\n",
    "run_user_managed = RunConfiguration()\n",
    "run_user_managed.environment.python.user_managed_dependencies = True"
   ]
  },
  {
   "cell_type": "markdown",
   "metadata": {},
   "source": [
    "# Preparing the Azure Compute Target"
   ]
  },
  {
   "cell_type": "code",
   "execution_count": null,
   "metadata": {},
   "outputs": [],
   "source": [
    "from azureml.core.compute import ComputeTarget, AmlCompute\n",
    "from azureml.core.runconfig import RunConfiguration\n",
    "from azureml.core.compute import ComputeTarget, AmlCompute\n",
    "from azureml.core.compute_target import ComputeTargetException\n",
    "\n",
    "# Create a new runconfig object\n",
    "run_temp_compute = RunConfiguration()\n",
    "\n",
    "# Signal that you want to use AmlCompute to execute the script\n",
    "run_temp_compute.target = \"amlcompute\"\n",
    "\n",
    "# AmlCompute is created in the same region as your workspace\n",
    "# Set the VM size for AmlCompute from the list of supported_vmsizes\n",
    "run_temp_compute.amlcompute.vm_size = 'STANDARD_D2_V2'\n",
    "\n",
    "\n",
    "# Choose a name for your CPU cluster\n",
    "cpu_cluster_name = \"ClusterNameGoesHere\"\n",
    "\n",
    "# Verify that cluster does not exist already\n",
    "try:\n",
    "    cpu_cluster = ComputeTarget(workspace=ws, name=cpu_cluster_name)\n",
    "    print('Found existing cluster, use it.')\n",
    "except ComputeTargetException:\n",
    "    compute_config = AmlCompute.provisioning_configuration(vm_size='STANDARD_D2_V2',\n",
    "                                                           max_nodes=4)\n",
    "    cpu_cluster = ComputeTarget.create(ws, cpu_cluster_name, compute_config)\n",
    "\n",
    "cpu_cluster.wait_for_completion(show_output=True)"
   ]
  },
  {
   "cell_type": "code",
   "execution_count": null,
   "metadata": {},
   "outputs": [],
   "source": [
    "datasetDefinition = dataset.get_definition()\n",
    "features =  datasetDefinition.drop_columns('HasDetections')\n",
    "labels =  datasetDefinition.keep_columns('HasDetections')"
   ]
  },
  {
   "cell_type": "code",
   "execution_count": null,
   "metadata": {},
   "outputs": [],
   "source": [
    "from azureml.train.automl import AutoMLConfig\n",
    "from azureml.train.automl.run import AutoMLRun\n",
    "import logging\n",
    "\n",
    "automl_config = AutoMLConfig(task = 'classification',\n",
    "                             debug_log = 'automl_errors.log',\n",
    "                             primary_metric = 'AUC_weighted',\n",
    "                             iteration_timeout_minutes = 10,\n",
    "                             iterations = 10,\n",
    "                             verbosity = logging.INFO,\n",
    "                             compute_target = cpu_cluster_name,\n",
    "                             X = features,\n",
    "                             y = labels,\n",
    "                             n_cross_validations=3)"
   ]
  },
  {
   "cell_type": "code",
   "execution_count": null,
   "metadata": {},
   "outputs": [],
   "source": [
    "from azureml.core.experiment import Experiment\n",
    "\n",
    "experiment_name = 'ExperimentNameGoesHere'\n",
    "experiment = Experiment(ws, experiment_name)\n",
    "\n",
    "remote_run = experiment.submit(automl_config, show_output=True)"
   ]
  },
  {
   "cell_type": "code",
   "execution_count": null,
   "metadata": {},
   "outputs": [],
   "source": [
    "best_run, fitted_model = remote_run.get_output()\n",
    "print(best_run)\n",
    "print(fitted_model)"
   ]
  },
  {
   "cell_type": "code",
   "execution_count": null,
   "metadata": {},
   "outputs": [],
   "source": [
    "from sklearn.externals import joblib\n",
    "from azureml.core.model import Model\n",
    "\n",
    "modelNameFile = 'ModelFileNameGoesHere.pkl'\n",
    "joblib.dump(value=fitted_model, filename=modelNameFile)\n",
    "\n",
    "model = Model.register(model_path = modelNameFile,\n",
    "                       model_name = \"ModelNameGoesHere\",\n",
    "                       tags = {\"key\": \"0.1\"},\n",
    "                       description = \"test\",\n",
    "                       workspace = ws)"
   ]
  }
 ],
 "metadata": {
  "kernelspec": {
   "display_name": "Python 3",
   "language": "python",
   "name": "python3"
  },
  "language_info": {
   "codemirror_mode": {
    "name": "ipython",
    "version": 3
   },
   "file_extension": ".py",
   "mimetype": "text/x-python",
   "name": "python",
   "nbconvert_exporter": "python",
   "pygments_lexer": "ipython3",
   "version": "3.6.4"
  }
 },
 "nbformat": 4,
 "nbformat_minor": 2
}
